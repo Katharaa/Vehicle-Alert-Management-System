{
  "nbformat": 4,
  "nbformat_minor": 0,
  "metadata": {
    "colab": {
      "name": "Vehicle_Alert_Management_System.ipynb",
      "provenance": [],
      "collapsed_sections": []
    },
    "kernelspec": {
      "name": "python3",
      "display_name": "Python 3"
    },
    "language_info": {
      "name": "python"
    },
    "accelerator": "GPU",
    "gpuClass": "standard"
  },
  "cells": [
    {
      "cell_type": "markdown",
      "source": [
        ""
      ],
      "metadata": {
        "id": "yMfJzJJu2qyb"
      }
    },
    {
      "cell_type": "code",
      "source": [
        "pip install tensorflow-addons\n"
      ],
      "metadata": {
        "colab": {
          "base_uri": "https://localhost:8080/"
        },
        "id": "m8DRO8Uo4uyw",
        "outputId": "da000307-40e1-4330-817f-c7e02d90c17f"
      },
      "execution_count": 10,
      "outputs": [
        {
          "output_type": "stream",
          "name": "stdout",
          "text": [
            "Looking in indexes: https://pypi.org/simple, https://us-python.pkg.dev/colab-wheels/public/simple/\n",
            "Requirement already satisfied: tensorflow-addons in /usr/local/lib/python3.7/dist-packages (0.17.1)\n",
            "Requirement already satisfied: typeguard>=2.7 in /usr/local/lib/python3.7/dist-packages (from tensorflow-addons) (2.7.1)\n",
            "Requirement already satisfied: packaging in /usr/local/lib/python3.7/dist-packages (from tensorflow-addons) (21.3)\n",
            "Requirement already satisfied: pyparsing!=3.0.5,>=2.0.2 in /usr/local/lib/python3.7/dist-packages (from packaging->tensorflow-addons) (3.0.9)\n"
          ]
        }
      ]
    },
    {
      "cell_type": "code",
      "source": [
        "pip install tensorflow_hub\n"
      ],
      "metadata": {
        "colab": {
          "base_uri": "https://localhost:8080/"
        },
        "id": "UOKPgCoR4_ym",
        "outputId": "2817bf71-bbcf-45f0-993c-f21b4c8cb61e"
      },
      "execution_count": 11,
      "outputs": [
        {
          "output_type": "stream",
          "name": "stdout",
          "text": [
            "Looking in indexes: https://pypi.org/simple, https://us-python.pkg.dev/colab-wheels/public/simple/\n",
            "Requirement already satisfied: tensorflow_hub in /usr/local/lib/python3.7/dist-packages (0.12.0)\n",
            "Requirement already satisfied: numpy>=1.12.0 in /usr/local/lib/python3.7/dist-packages (from tensorflow_hub) (1.21.6)\n",
            "Requirement already satisfied: protobuf>=3.8.0 in /usr/local/lib/python3.7/dist-packages (from tensorflow_hub) (3.17.3)\n",
            "Requirement already satisfied: six>=1.9 in /usr/local/lib/python3.7/dist-packages (from protobuf>=3.8.0->tensorflow_hub) (1.15.0)\n"
          ]
        }
      ]
    },
    {
      "cell_type": "code",
      "source": [
        "from __future__ import absolute_import, division, print_function, unicode_literals"
      ],
      "metadata": {
        "id": "PwT899-55LGJ"
      },
      "execution_count": 12,
      "outputs": []
    },
    {
      "cell_type": "code",
      "source": [
        "import matplotlib.pylab as plt\n",
        "import tensorflow as tf\n",
        "import tensorflow_hub as hub\n",
        "import numpy as np\n",
        "import pandas as pd\n"
      ],
      "metadata": {
        "id": "Vwfy3HWv5Pdf"
      },
      "execution_count": 13,
      "outputs": []
    },
    {
      "cell_type": "code",
      "source": [
        "pd.set_option(\"display.precision\", 8)\n"
      ],
      "metadata": {
        "id": "clDnf1ow5WrP"
      },
      "execution_count": 14,
      "outputs": []
    },
    {
      "cell_type": "code",
      "source": [
        "data_root='/content/drive/MyDrive/Train/'\n"
      ],
      "metadata": {
        "id": "eQpI3F8R5aEt"
      },
      "execution_count": 57,
      "outputs": []
    },
    {
      "cell_type": "code",
      "source": [
        "IMAGE_SHAPE = (224, 224)\n",
        "TRAINING_DATA_DIR = str(data_root)\n",
        "print(TRAINING_DATA_DIR);\n",
        "datagen_kwargs = dict(rescale=1./255, validation_split=.20)\n",
        "valid_datagen = tf.keras.preprocessing.image.ImageDataGenerator(**datagen_kwargs)\n",
        "valid_generator = valid_datagen.flow_from_directory(\n",
        "TRAINING_DATA_DIR,\n",
        "subset=\"validation\",\n",
        "shuffle=True,\n",
        "target_size=IMAGE_SHAPE\n",
        ")\n",
        "train_datagen = tf.keras.preprocessing.image.ImageDataGenerator(**datagen_kwargs)\n",
        "train_generator = train_datagen.flow_from_directory(\n",
        "TRAINING_DATA_DIR,\n",
        "subset=\"training\",\n",
        "shuffle=True,\n",
        "target_size=IMAGE_SHAPE)"
      ],
      "metadata": {
        "colab": {
          "base_uri": "https://localhost:8080/"
        },
        "id": "gXttjVB76i8p",
        "outputId": "f7460bd8-73c9-4b3e-d8d3-429a64c14182"
      },
      "execution_count": 58,
      "outputs": [
        {
          "output_type": "stream",
          "name": "stdout",
          "text": [
            "/content/drive/MyDrive/Train/\n",
            "Found 56 images belonging to 26 classes.\n",
            "Found 224 images belonging to 26 classes.\n"
          ]
        }
      ]
    },
    {
      "cell_type": "code",
      "source": [
        "image_batch_train, label_batch_train = next(iter(train_generator))\n",
        "print(\"Image batch shape: \", image_batch_train.shape)\n",
        "print(\"Label batch shape: \", label_batch_train.shape)\n",
        "dataset_labels = sorted(train_generator.class_indices.items(), key=lambda pair:pair[1])\n",
        "dataset_labels = np.array([key.title() for key, value in dataset_labels])\n",
        "print(dataset_labels)"
      ],
      "metadata": {
        "colab": {
          "base_uri": "https://localhost:8080/"
        },
        "id": "l1o5iRoi61wD",
        "outputId": "aeb53f13-27ec-4926-dc77-159d097c3c9a"
      },
      "execution_count": 59,
      "outputs": [
        {
          "output_type": "stream",
          "name": "stdout",
          "text": [
            "Image batch shape:  (32, 224, 224, 3)\n",
            "Label batch shape:  (32, 26)\n",
            "['0' '1' '10' '11' '12' '13' '14' '15' '16' '17' '18' '19' '2' '20' '21'\n",
            " '22' '23' '24' '25' '3' '4' '5' '6' '7' '8' '9']\n"
          ]
        }
      ]
    },
    {
      "cell_type": "code",
      "source": [
        "model = tf.keras.Sequential([\n",
        "hub.KerasLayer(\"https://tfhub.dev/google/tf2-preview/mobilenet_v2/feature_vector/4\",\n",
        "output_shape=[1280],\n",
        "trainable=False),\n",
        "tf.keras.layers.Dropout(0.4),\n",
        "tf.keras.layers.Dense(train_generator.num_classes, activation='softmax')\n",
        "])\n",
        "model.build([None, 224, 224, 3])\n",
        "model.summary()\n",
        "model.compile(\n",
        "optimizer=tf.keras.optimizers.Adam(),\n",
        "loss='categorical_crossentropy',\n",
        "metrics=['acc'])\n"
      ],
      "metadata": {
        "colab": {
          "base_uri": "https://localhost:8080/"
        },
        "id": "wMzwXRd-6-hf",
        "outputId": "2c11a426-21a7-426e-adec-c8c4730e817e"
      },
      "execution_count": 60,
      "outputs": [
        {
          "output_type": "stream",
          "name": "stdout",
          "text": [
            "Model: \"sequential_2\"\n",
            "_________________________________________________________________\n",
            " Layer (type)                Output Shape              Param #   \n",
            "=================================================================\n",
            " keras_layer_2 (KerasLayer)  (None, 1280)              2257984   \n",
            "                                                                 \n",
            " dropout_2 (Dropout)         (None, 1280)              0         \n",
            "                                                                 \n",
            " dense_2 (Dense)             (None, 26)                33306     \n",
            "                                                                 \n",
            "=================================================================\n",
            "Total params: 2,291,290\n",
            "Trainable params: 33,306\n",
            "Non-trainable params: 2,257,984\n",
            "_________________________________________________________________\n"
          ]
        }
      ]
    },
    {
      "cell_type": "code",
      "source": [
        "steps_per_epoch = np.ceil(train_generator.samples/train_generator.batch_size)\n",
        "val_steps_per_epoch = np.ceil(valid_generator.samples/valid_generator.batch_size)\n",
        "hist = model.fit(\n",
        "train_generator,\n",
        "epochs=10,\n",
        "verbose=1,\n",
        "steps_per_epoch=steps_per_epoch,\n",
        "validation_data=valid_generator,\n",
        "validation_steps=val_steps_per_epoch).history"
      ],
      "metadata": {
        "colab": {
          "base_uri": "https://localhost:8080/"
        },
        "id": "kqvIrZXl6-uA",
        "outputId": "f4d639b9-6d84-4f9c-aa59-266f9436cbf4"
      },
      "execution_count": 61,
      "outputs": [
        {
          "output_type": "stream",
          "name": "stdout",
          "text": [
            "Epoch 1/10\n",
            "7/7 [==============================] - 6s 432ms/step - loss: 3.5192 - acc: 0.0580 - val_loss: 2.6427 - val_acc: 0.2500\n",
            "Epoch 2/10\n",
            "7/7 [==============================] - 1s 111ms/step - loss: 2.6950 - acc: 0.2277 - val_loss: 1.9565 - val_acc: 0.5714\n",
            "Epoch 3/10\n",
            "7/7 [==============================] - 1s 107ms/step - loss: 1.9999 - acc: 0.4866 - val_loss: 1.4066 - val_acc: 0.8571\n",
            "Epoch 4/10\n",
            "7/7 [==============================] - 1s 105ms/step - loss: 1.4645 - acc: 0.6786 - val_loss: 0.9877 - val_acc: 0.9286\n",
            "Epoch 5/10\n",
            "7/7 [==============================] - 1s 107ms/step - loss: 1.1785 - acc: 0.7723 - val_loss: 0.7071 - val_acc: 0.9643\n",
            "Epoch 6/10\n",
            "7/7 [==============================] - 1s 112ms/step - loss: 0.8244 - acc: 0.8750 - val_loss: 0.5217 - val_acc: 0.9643\n",
            "Epoch 7/10\n",
            "7/7 [==============================] - 1s 110ms/step - loss: 0.6498 - acc: 0.9196 - val_loss: 0.3933 - val_acc: 0.9643\n",
            "Epoch 8/10\n",
            "7/7 [==============================] - 1s 135ms/step - loss: 0.4697 - acc: 0.9598 - val_loss: 0.3070 - val_acc: 0.9643\n",
            "Epoch 9/10\n",
            "7/7 [==============================] - 2s 316ms/step - loss: 0.4076 - acc: 0.9598 - val_loss: 0.2476 - val_acc: 0.9643\n",
            "Epoch 10/10\n",
            "7/7 [==============================] - 1s 136ms/step - loss: 0.3478 - acc: 0.9464 - val_loss: 0.2052 - val_acc: 0.9643\n"
          ]
        }
      ]
    },
    {
      "cell_type": "code",
      "source": [
        "final_loss, final_accuracy = model.evaluate(valid_generator, steps = val_steps_per_epoch)\n",
        "print(\"Final loss: {:.2f}\".format(final_loss))\n",
        "print(\"Final accuracy: {:.2f}%\".format(final_accuracy * 100))"
      ],
      "metadata": {
        "colab": {
          "base_uri": "https://localhost:8080/"
        },
        "id": "z4UoTMR-LnSw",
        "outputId": "0de343a2-126b-4cf2-ce7f-0cdeeb79ba96"
      },
      "execution_count": 69,
      "outputs": [
        {
          "output_type": "stream",
          "name": "stdout",
          "text": [
            "2/2 [==============================] - 0s 61ms/step - loss: 0.2052 - acc: 0.9643\n",
            "Final loss: 0.21\n",
            "Final accuracy: 96.43%\n"
          ]
        }
      ]
    },
    {
      "cell_type": "code",
      "source": [
        "from keras.models import Sequential\n",
        "from keras.layers import Dense, Dropout, Activation\n",
        "from tensorflow.keras.optimizers import SGD\n",
        "\n"
      ],
      "metadata": {
        "id": "FKofe-ey6-7Q"
      },
      "execution_count": 64,
      "outputs": []
    },
    {
      "cell_type": "markdown",
      "source": [
        ""
      ],
      "metadata": {
        "id": "AW4Lc11jMx4l"
      }
    },
    {
      "cell_type": "code",
      "source": [
        "import keras\n",
        "import keras.utils\n",
        "from keras import utils as np_utils"
      ],
      "metadata": {
        "id": "rK5ekgxdLmeG"
      },
      "execution_count": 67,
      "outputs": []
    },
    {
      "cell_type": "code",
      "source": [
        "path = 'path.h5'\n",
        "model.save(path)"
      ],
      "metadata": {
        "id": "ntetBdVtMzbn"
      },
      "execution_count": 87,
      "outputs": []
    },
    {
      "cell_type": "code",
      "source": [
        "model = tf.keras.models.load_model((path),custom_objects={'KerasLayer':hub.KerasLayer})\n"
      ],
      "metadata": {
        "id": "e11AndqxNBbQ"
      },
      "execution_count": 90,
      "outputs": []
    },
    {
      "cell_type": "code",
      "source": [
        ""
      ],
      "metadata": {
        "id": "4nvIc0NpNEzu"
      },
      "execution_count": 77,
      "outputs": []
    },
    {
      "cell_type": "code",
      "source": [
        ""
      ],
      "metadata": {
        "id": "PhIueCvq-FBb"
      },
      "execution_count": 91,
      "outputs": []
    },
    {
      "cell_type": "code",
      "source": [
        ""
      ],
      "metadata": {
        "id": "hYJ6CiHxNDrQ"
      },
      "execution_count": null,
      "outputs": []
    },
    {
      "cell_type": "code",
      "source": [
        "val_image_batch, val_label_batch = next(iter(valid_generator))\n",
        "true_label_ids = np.argmax(val_label_batch, axis=-1)\n",
        "print(\"Validation batch shape:\", val_image_batch.shape)"
      ],
      "metadata": {
        "colab": {
          "base_uri": "https://localhost:8080/"
        },
        "id": "-Mi5CuQ--TFr",
        "outputId": "1a46b405-8ae5-4ec6-bf1d-5a89e36f3b5e"
      },
      "execution_count": 92,
      "outputs": [
        {
          "output_type": "stream",
          "name": "stdout",
          "text": [
            "Validation batch shape: (32, 224, 224, 3)\n"
          ]
        }
      ]
    },
    {
      "cell_type": "code",
      "source": [
        "tf_model_predictions = model.predict(val_image_batch)\n",
        "tf_pred_dataframe = pd.DataFrame(tf_model_predictions)\n",
        "tf_pred_dataframe.columns = dataset_labels\n",
        "print(\"Prediction results for the first elements\")\n",
        "tf_pred_dataframe.head()\n"
      ],
      "metadata": {
        "colab": {
          "base_uri": "https://localhost:8080/",
          "height": 317
        },
        "id": "5J5nZ2MG-TXK",
        "outputId": "afd39e21-1757-49d7-a6a0-0470bc031838"
      },
      "execution_count": 93,
      "outputs": [
        {
          "output_type": "stream",
          "name": "stdout",
          "text": [
            "Prediction results for the first elements\n"
          ]
        },
        {
          "output_type": "execute_result",
          "data": {
            "text/plain": [
              "            0           1          10          11          12          13  \\\n",
              "0  0.00485992  0.00759428  0.00028539  0.00034498  0.00909961  0.01385779   \n",
              "1  0.00332648  0.00687899  0.00026215  0.00061600  0.01624640  0.00435952   \n",
              "2  0.00745572  0.00610170  0.00430075  0.00052142  0.00159335  0.01145819   \n",
              "3  0.00747871  0.00630647  0.00648808  0.00150089  0.00905602  0.00836007   \n",
              "4  0.01670409  0.01474632  0.00129946  0.00188851  0.01528390  0.01054794   \n",
              "\n",
              "           14          15          16          17  ...          23  \\\n",
              "0  0.00130189  0.01969044  0.02207093  0.00390000  ...  0.00670294   \n",
              "1  0.00052497  0.01539028  0.84297276  0.00511981  ...  0.00057994   \n",
              "2  0.00689465  0.00284698  0.00313648  0.01330282  ...  0.00954445   \n",
              "3  0.00121746  0.00362965  0.00431996  0.00517070  ...  0.01655948   \n",
              "4  0.00687342  0.00145380  0.00201988  0.01212124  ...  0.00119821   \n",
              "\n",
              "           24          25           3           4           5           6  \\\n",
              "0  0.73194128  0.00832936  0.00067741  0.00199544  0.01320423  0.04487229   \n",
              "1  0.02509923  0.00451036  0.00116455  0.00088185  0.00671807  0.01306562   \n",
              "2  0.00990571  0.83005828  0.00390902  0.01359150  0.00809788  0.00732406   \n",
              "3  0.00985545  0.00998244  0.00786980  0.00630561  0.80195659  0.03937606   \n",
              "4  0.00129274  0.00576930  0.00364424  0.00298623  0.00459395  0.00142564   \n",
              "\n",
              "            7           8           9  \n",
              "0  0.00014202  0.00123881  0.00750809  \n",
              "1  0.00012537  0.00332542  0.01662870  \n",
              "2  0.00040958  0.00366091  0.00675859  \n",
              "3  0.00076544  0.00460053  0.00471616  \n",
              "4  0.00229654  0.86598635  0.01199199  \n",
              "\n",
              "[5 rows x 26 columns]"
            ],
            "text/html": [
              "\n",
              "  <div id=\"df-a8c4181b-877d-4bc5-b1b9-780f42b5832b\">\n",
              "    <div class=\"colab-df-container\">\n",
              "      <div>\n",
              "<style scoped>\n",
              "    .dataframe tbody tr th:only-of-type {\n",
              "        vertical-align: middle;\n",
              "    }\n",
              "\n",
              "    .dataframe tbody tr th {\n",
              "        vertical-align: top;\n",
              "    }\n",
              "\n",
              "    .dataframe thead th {\n",
              "        text-align: right;\n",
              "    }\n",
              "</style>\n",
              "<table border=\"1\" class=\"dataframe\">\n",
              "  <thead>\n",
              "    <tr style=\"text-align: right;\">\n",
              "      <th></th>\n",
              "      <th>0</th>\n",
              "      <th>1</th>\n",
              "      <th>10</th>\n",
              "      <th>11</th>\n",
              "      <th>12</th>\n",
              "      <th>13</th>\n",
              "      <th>14</th>\n",
              "      <th>15</th>\n",
              "      <th>16</th>\n",
              "      <th>17</th>\n",
              "      <th>...</th>\n",
              "      <th>23</th>\n",
              "      <th>24</th>\n",
              "      <th>25</th>\n",
              "      <th>3</th>\n",
              "      <th>4</th>\n",
              "      <th>5</th>\n",
              "      <th>6</th>\n",
              "      <th>7</th>\n",
              "      <th>8</th>\n",
              "      <th>9</th>\n",
              "    </tr>\n",
              "  </thead>\n",
              "  <tbody>\n",
              "    <tr>\n",
              "      <th>0</th>\n",
              "      <td>0.00485992</td>\n",
              "      <td>0.00759428</td>\n",
              "      <td>0.00028539</td>\n",
              "      <td>0.00034498</td>\n",
              "      <td>0.00909961</td>\n",
              "      <td>0.01385779</td>\n",
              "      <td>0.00130189</td>\n",
              "      <td>0.01969044</td>\n",
              "      <td>0.02207093</td>\n",
              "      <td>0.00390000</td>\n",
              "      <td>...</td>\n",
              "      <td>0.00670294</td>\n",
              "      <td>0.73194128</td>\n",
              "      <td>0.00832936</td>\n",
              "      <td>0.00067741</td>\n",
              "      <td>0.00199544</td>\n",
              "      <td>0.01320423</td>\n",
              "      <td>0.04487229</td>\n",
              "      <td>0.00014202</td>\n",
              "      <td>0.00123881</td>\n",
              "      <td>0.00750809</td>\n",
              "    </tr>\n",
              "    <tr>\n",
              "      <th>1</th>\n",
              "      <td>0.00332648</td>\n",
              "      <td>0.00687899</td>\n",
              "      <td>0.00026215</td>\n",
              "      <td>0.00061600</td>\n",
              "      <td>0.01624640</td>\n",
              "      <td>0.00435952</td>\n",
              "      <td>0.00052497</td>\n",
              "      <td>0.01539028</td>\n",
              "      <td>0.84297276</td>\n",
              "      <td>0.00511981</td>\n",
              "      <td>...</td>\n",
              "      <td>0.00057994</td>\n",
              "      <td>0.02509923</td>\n",
              "      <td>0.00451036</td>\n",
              "      <td>0.00116455</td>\n",
              "      <td>0.00088185</td>\n",
              "      <td>0.00671807</td>\n",
              "      <td>0.01306562</td>\n",
              "      <td>0.00012537</td>\n",
              "      <td>0.00332542</td>\n",
              "      <td>0.01662870</td>\n",
              "    </tr>\n",
              "    <tr>\n",
              "      <th>2</th>\n",
              "      <td>0.00745572</td>\n",
              "      <td>0.00610170</td>\n",
              "      <td>0.00430075</td>\n",
              "      <td>0.00052142</td>\n",
              "      <td>0.00159335</td>\n",
              "      <td>0.01145819</td>\n",
              "      <td>0.00689465</td>\n",
              "      <td>0.00284698</td>\n",
              "      <td>0.00313648</td>\n",
              "      <td>0.01330282</td>\n",
              "      <td>...</td>\n",
              "      <td>0.00954445</td>\n",
              "      <td>0.00990571</td>\n",
              "      <td>0.83005828</td>\n",
              "      <td>0.00390902</td>\n",
              "      <td>0.01359150</td>\n",
              "      <td>0.00809788</td>\n",
              "      <td>0.00732406</td>\n",
              "      <td>0.00040958</td>\n",
              "      <td>0.00366091</td>\n",
              "      <td>0.00675859</td>\n",
              "    </tr>\n",
              "    <tr>\n",
              "      <th>3</th>\n",
              "      <td>0.00747871</td>\n",
              "      <td>0.00630647</td>\n",
              "      <td>0.00648808</td>\n",
              "      <td>0.00150089</td>\n",
              "      <td>0.00905602</td>\n",
              "      <td>0.00836007</td>\n",
              "      <td>0.00121746</td>\n",
              "      <td>0.00362965</td>\n",
              "      <td>0.00431996</td>\n",
              "      <td>0.00517070</td>\n",
              "      <td>...</td>\n",
              "      <td>0.01655948</td>\n",
              "      <td>0.00985545</td>\n",
              "      <td>0.00998244</td>\n",
              "      <td>0.00786980</td>\n",
              "      <td>0.00630561</td>\n",
              "      <td>0.80195659</td>\n",
              "      <td>0.03937606</td>\n",
              "      <td>0.00076544</td>\n",
              "      <td>0.00460053</td>\n",
              "      <td>0.00471616</td>\n",
              "    </tr>\n",
              "    <tr>\n",
              "      <th>4</th>\n",
              "      <td>0.01670409</td>\n",
              "      <td>0.01474632</td>\n",
              "      <td>0.00129946</td>\n",
              "      <td>0.00188851</td>\n",
              "      <td>0.01528390</td>\n",
              "      <td>0.01054794</td>\n",
              "      <td>0.00687342</td>\n",
              "      <td>0.00145380</td>\n",
              "      <td>0.00201988</td>\n",
              "      <td>0.01212124</td>\n",
              "      <td>...</td>\n",
              "      <td>0.00119821</td>\n",
              "      <td>0.00129274</td>\n",
              "      <td>0.00576930</td>\n",
              "      <td>0.00364424</td>\n",
              "      <td>0.00298623</td>\n",
              "      <td>0.00459395</td>\n",
              "      <td>0.00142564</td>\n",
              "      <td>0.00229654</td>\n",
              "      <td>0.86598635</td>\n",
              "      <td>0.01199199</td>\n",
              "    </tr>\n",
              "  </tbody>\n",
              "</table>\n",
              "<p>5 rows × 26 columns</p>\n",
              "</div>\n",
              "      <button class=\"colab-df-convert\" onclick=\"convertToInteractive('df-a8c4181b-877d-4bc5-b1b9-780f42b5832b')\"\n",
              "              title=\"Convert this dataframe to an interactive table.\"\n",
              "              style=\"display:none;\">\n",
              "        \n",
              "  <svg xmlns=\"http://www.w3.org/2000/svg\" height=\"24px\"viewBox=\"0 0 24 24\"\n",
              "       width=\"24px\">\n",
              "    <path d=\"M0 0h24v24H0V0z\" fill=\"none\"/>\n",
              "    <path d=\"M18.56 5.44l.94 2.06.94-2.06 2.06-.94-2.06-.94-.94-2.06-.94 2.06-2.06.94zm-11 1L8.5 8.5l.94-2.06 2.06-.94-2.06-.94L8.5 2.5l-.94 2.06-2.06.94zm10 10l.94 2.06.94-2.06 2.06-.94-2.06-.94-.94-2.06-.94 2.06-2.06.94z\"/><path d=\"M17.41 7.96l-1.37-1.37c-.4-.4-.92-.59-1.43-.59-.52 0-1.04.2-1.43.59L10.3 9.45l-7.72 7.72c-.78.78-.78 2.05 0 2.83L4 21.41c.39.39.9.59 1.41.59.51 0 1.02-.2 1.41-.59l7.78-7.78 2.81-2.81c.8-.78.8-2.07 0-2.86zM5.41 20L4 18.59l7.72-7.72 1.47 1.35L5.41 20z\"/>\n",
              "  </svg>\n",
              "      </button>\n",
              "      \n",
              "  <style>\n",
              "    .colab-df-container {\n",
              "      display:flex;\n",
              "      flex-wrap:wrap;\n",
              "      gap: 12px;\n",
              "    }\n",
              "\n",
              "    .colab-df-convert {\n",
              "      background-color: #E8F0FE;\n",
              "      border: none;\n",
              "      border-radius: 50%;\n",
              "      cursor: pointer;\n",
              "      display: none;\n",
              "      fill: #1967D2;\n",
              "      height: 32px;\n",
              "      padding: 0 0 0 0;\n",
              "      width: 32px;\n",
              "    }\n",
              "\n",
              "    .colab-df-convert:hover {\n",
              "      background-color: #E2EBFA;\n",
              "      box-shadow: 0px 1px 2px rgba(60, 64, 67, 0.3), 0px 1px 3px 1px rgba(60, 64, 67, 0.15);\n",
              "      fill: #174EA6;\n",
              "    }\n",
              "\n",
              "    [theme=dark] .colab-df-convert {\n",
              "      background-color: #3B4455;\n",
              "      fill: #D2E3FC;\n",
              "    }\n",
              "\n",
              "    [theme=dark] .colab-df-convert:hover {\n",
              "      background-color: #434B5C;\n",
              "      box-shadow: 0px 1px 3px 1px rgba(0, 0, 0, 0.15);\n",
              "      filter: drop-shadow(0px 1px 2px rgba(0, 0, 0, 0.3));\n",
              "      fill: #FFFFFF;\n",
              "    }\n",
              "  </style>\n",
              "\n",
              "      <script>\n",
              "        const buttonEl =\n",
              "          document.querySelector('#df-a8c4181b-877d-4bc5-b1b9-780f42b5832b button.colab-df-convert');\n",
              "        buttonEl.style.display =\n",
              "          google.colab.kernel.accessAllowed ? 'block' : 'none';\n",
              "\n",
              "        async function convertToInteractive(key) {\n",
              "          const element = document.querySelector('#df-a8c4181b-877d-4bc5-b1b9-780f42b5832b');\n",
              "          const dataTable =\n",
              "            await google.colab.kernel.invokeFunction('convertToInteractive',\n",
              "                                                     [key], {});\n",
              "          if (!dataTable) return;\n",
              "\n",
              "          const docLinkHtml = 'Like what you see? Visit the ' +\n",
              "            '<a target=\"_blank\" href=https://colab.research.google.com/notebooks/data_table.ipynb>data table notebook</a>'\n",
              "            + ' to learn more about interactive tables.';\n",
              "          element.innerHTML = '';\n",
              "          dataTable['output_type'] = 'display_data';\n",
              "          await google.colab.output.renderOutput(dataTable, element);\n",
              "          const docLink = document.createElement('div');\n",
              "          docLink.innerHTML = docLinkHtml;\n",
              "          element.appendChild(docLink);\n",
              "        }\n",
              "      </script>\n",
              "    </div>\n",
              "  </div>\n",
              "  "
            ]
          },
          "metadata": {},
          "execution_count": 93
        }
      ]
    },
    {
      "cell_type": "code",
      "source": [
        "predicted_ids = np.argmax(tf_model_predictions, axis=-1)\n",
        "predicted_labels = dataset_labels[predicted_ids]\n",
        "plt.figure(figsize=(10,9))\n",
        "plt.subplots_adjust(hspace=0.5)\n",
        "for n in range(15):\n",
        "  plt.subplot(6,5,n+1)\n",
        "  plt.imshow(val_image_batch[n])\n",
        "  color = \"green\" if predicted_ids[n] == true_label_ids[n] else \"red\"\n",
        "  plt.title(predicted_labels[n].title(), color=color)\n",
        "  plt.axis('off')\n",
        "  _ = plt.suptitle(\"Model predictions (green: correct, red: incorrect)\")"
      ],
      "metadata": {
        "colab": {
          "base_uri": "https://localhost:8080/",
          "height": 326
        },
        "id": "KW_emoqN-r3R",
        "outputId": "901cca1b-6403-4bb3-dbac-1d73a1355eca"
      },
      "execution_count": 95,
      "outputs": [
        {
          "output_type": "display_data",
          "data": {
            "text/plain": [
              "<Figure size 720x648 with 15 Axes>"
            ],
            "image/png": "[encoded data removed]"
          },
          "metadata": {
            "needs_background": "light"
          }
        }
      ]
    },
    {
      "cell_type": "code",
      "source": [
        "!rmdir \"tflite_models\"\n"
      ],
      "metadata": {
        "id": "Ft8pHjLu_CaI"
      },
      "execution_count": 35,
      "outputs": []
    },
    {
      "cell_type": "code",
      "source": [
        "!mkdir \"tflite_models\"\n",
        "TFLITE_MODEL = \"tflite_models/car.tflite\"\n",
        "TFLITE_QUANT_MODEL = \"tflite_models/car_quant.tflite\"\n"
      ],
      "metadata": {
        "id": "EeuODmN4Aukf"
      },
      "execution_count": 36,
      "outputs": []
    },
    {
      "cell_type": "code",
      "source": [
        "# Get the concrete function from the Keras model.\n",
        "run_model = tf.function(lambda x : model(x))\n"
      ],
      "metadata": {
        "id": "Vwvs8D7u_CqD"
      },
      "execution_count": 38,
      "outputs": []
    },
    {
      "cell_type": "code",
      "source": [
        "# Save the concrete function.\n",
        "concrete_func = run_model.get_concrete_function(\n",
        "tf.TensorSpec(model.inputs[0].shape, model.inputs[0].dtype)\n",
        ")"
      ],
      "metadata": {
        "id": "iHXurfEjBn5a"
      },
      "execution_count": 39,
      "outputs": []
    },
    {
      "cell_type": "code",
      "source": [
        "# Convert the model\n",
        "converter = tf.lite.TFLiteConverter.from_keras_model(model)\n",
        "tflite_model = converter.convert()\n",
        "open(TFLITE_MODEL, \"wb\").write(tflite_model)\n",
        "\n"
      ],
      "metadata": {
        "colab": {
          "base_uri": "https://localhost:8080/"
        },
        "id": "1dn6WTmfBn_p",
        "outputId": "12442ddc-6c12-474a-d7e4-8b893fcb03ff"
      },
      "execution_count": 48,
      "outputs": [
        {
          "output_type": "stream",
          "name": "stdout",
          "text": [
            "INFO:tensorflow:Assets written to: /tmp/tmp60dx_hk2/assets\n"
          ]
        },
        {
          "output_type": "stream",
          "name": "stderr",
          "text": [
            "INFO:tensorflow:Assets written to: /tmp/tmp60dx_hk2/assets\n",
            "WARNING:absl:Buffer deduplication procedure will be skipped when flatbuffer library is not properly loaded\n"
          ]
        },
        {
          "output_type": "execute_result",
          "data": {
            "text/plain": [
              "9000476"
            ]
          },
          "metadata": {},
          "execution_count": 48
        }
      ]
    },
    {
      "cell_type": "code",
      "source": [
        "# Convert the model to quantized version with post-training quantization\n",
        "converter = tf.lite.TFLiteConverter.from_keras_model(model)\n",
        "\n",
        "converter.optimizations = [tf.lite.Optimize.OPTIMIZE_FOR_SIZE]\n",
        "tflite_quant_model = converter.convert()\n",
        "open(TFLITE_QUANT_MODEL, \"wb\").write(tflite_quant_model)\n",
        "\n",
        "print(\"TFLite models and their sizes:\")\n",
        "!ls \"tflite_models\" -lh"
      ],
      "metadata": {
        "colab": {
          "base_uri": "https://localhost:8080/"
        },
        "id": "djCJm850BoBM",
        "outputId": "dac59647-acb6-4293-f720-0e21ec57bc26"
      },
      "execution_count": 50,
      "outputs": [
        {
          "output_type": "stream",
          "name": "stderr",
          "text": [
            "WARNING:absl:Optimization option OPTIMIZE_FOR_SIZE is deprecated, please use optimizations=[Optimize.DEFAULT] instead.\n"
          ]
        },
        {
          "output_type": "stream",
          "name": "stdout",
          "text": [
            "INFO:tensorflow:Assets written to: /tmp/tmps4l34oom/assets\n"
          ]
        },
        {
          "output_type": "stream",
          "name": "stderr",
          "text": [
            "INFO:tensorflow:Assets written to: /tmp/tmps4l34oom/assets\n",
            "WARNING:absl:Optimization option OPTIMIZE_FOR_SIZE is deprecated, please use optimizations=[Optimize.DEFAULT] instead.\n",
            "WARNING:absl:Optimization option OPTIMIZE_FOR_SIZE is deprecated, please use optimizations=[Optimize.DEFAULT] instead.\n",
            "WARNING:absl:Buffer deduplication procedure will be skipped when flatbuffer library is not properly loaded\n"
          ]
        },
        {
          "output_type": "stream",
          "name": "stdout",
          "text": [
            "TFLite models and their sizes:\n",
            "total 12M\n",
            "-rw-r--r-- 1 root root 2.6M Jul  9 17:55 car_quant.tflite\n",
            "-rw-r--r-- 1 root root 8.6M Jul  9 17:52 car.tflite\n"
          ]
        }
      ]
    },
    {
      "cell_type": "code",
      "source": [
        ""
      ],
      "metadata": {
        "id": "86ZWGsLyBoEP"
      },
      "execution_count": null,
      "outputs": []
    },
    {
      "cell_type": "code",
      "source": [
        ""
      ],
      "metadata": {
        "id": "kiQT18Xd_Cy7"
      },
      "execution_count": null,
      "outputs": []
    }
  ]
}